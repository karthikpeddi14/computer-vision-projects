{
 "cells": [
  {
   "cell_type": "markdown",
   "id": "a4cc2d54-83e1-49d4-9bd8-2983a05e8b3f",
   "metadata": {},
   "source": [
    "# Imports"
   ]
  },
  {
   "cell_type": "code",
   "execution_count": 1,
   "id": "d7d27991-1b06-4bba-a5ea-0f23f2ed2795",
   "metadata": {},
   "outputs": [
    {
     "name": "stdout",
     "output_type": "stream",
     "text": [
      "WARNING:tensorflow:From C:\\Users\\karth\\anaconda3\\lib\\site-packages\\keras\\src\\losses.py:2976: The name tf.losses.sparse_softmax_cross_entropy is deprecated. Please use tf.compat.v1.losses.sparse_softmax_cross_entropy instead.\n",
      "\n"
     ]
    }
   ],
   "source": [
    "import mediapipe as mp"
   ]
  },
  {
   "cell_type": "code",
   "execution_count": 2,
   "id": "4dcfe7db-eba5-46a3-b340-716a3dca6800",
   "metadata": {},
   "outputs": [],
   "source": [
    "import pandas as pd\n",
    "import numpy as np\n",
    "import cv2\n",
    "import matplotlib.pyplot as plt\n",
    "import os\n",
    "import argparse"
   ]
  },
  {
   "cell_type": "markdown",
   "id": "30e7b7e0-08b4-4230-be77-78a6c21bc3d7",
   "metadata": {},
   "source": [
    "# ARGPARSE"
   ]
  },
  {
   "cell_type": "code",
   "execution_count": 3,
   "id": "50d6cab8-41aa-47b2-8d59-72935a65cdeb",
   "metadata": {},
   "outputs": [],
   "source": [
    "args = argparse.ArgumentParser()\n",
    "\n",
    "args.add_argument(\"--mode\", default='webcam')\n",
    "args.add_argument(\"--filePath\", default=None)\n",
    "\n",
    "arg, _ = args.parse_known_args()"
   ]
  },
  {
   "cell_type": "code",
   "execution_count": 4,
   "id": "d5c0aa1c-725e-4388-93f2-06612fb8774c",
   "metadata": {},
   "outputs": [
    {
     "name": "stdout",
     "output_type": "stream",
     "text": [
      "webcam\n",
      "None\n"
     ]
    }
   ],
   "source": [
    "print(arg.mode)\n",
    "print(arg.filePath)"
   ]
  },
  {
   "cell_type": "markdown",
   "id": "2889caa5-9499-4455-a0db-3b1f0513be7d",
   "metadata": {},
   "source": [
    "## Making output Directory if needed"
   ]
  },
  {
   "cell_type": "code",
   "execution_count": 10,
   "id": "2cb99ba6-6a34-46b7-b6d1-16942d232d7e",
   "metadata": {},
   "outputs": [],
   "source": [
    "output_directory_path = './Project3_output'\n",
    "os.makedirs(output_directory_path,exist_ok=True)"
   ]
  },
  {
   "cell_type": "markdown",
   "id": "90595c9e-970e-4c8e-98a7-14e130e9963e",
   "metadata": {},
   "source": [
    "## Face Detection using mediapipe"
   ]
  },
  {
   "cell_type": "code",
   "execution_count": 6,
   "id": "35d3b164-5756-4a0f-939d-cf291232f638",
   "metadata": {},
   "outputs": [],
   "source": [
    "mp_face_detection = mp.solutions.face_detection"
   ]
  },
  {
   "cell_type": "code",
   "execution_count": 7,
   "id": "3d4c8a3c-0918-454b-8f67-eade6599a220",
   "metadata": {},
   "outputs": [],
   "source": [
    "# model_selection = 0 means face is less than 2meters to cam and model_selection=1, means face is far away from camera\n",
    "# confidence means higher the confidence higher the accuracy of assumption."
   ]
  },
  {
   "cell_type": "code",
   "execution_count": 8,
   "id": "aaf7c928-99e9-4587-bb24-a1ac343f435f",
   "metadata": {},
   "outputs": [],
   "source": [
    "def process_image(image,face_detection):\n",
    "    H,W,_ = image.shape\n",
    "    rgb_img = cv2.cvtColor(image,cv2.COLOR_BGR2RGB)\n",
    "    output = face_detection.process(rgb_img)\n",
    "    if output.detections !=None:\n",
    "\n",
    "        for detection in output.detections:\n",
    "            location_data = detection.location_data\n",
    "            bbox = location_data.relative_bounding_box\n",
    "            # coordinates\n",
    "            xmin = bbox.xmin\n",
    "            ymin = bbox.ymin\n",
    "            width = bbox.width\n",
    "            height = bbox.height\n",
    "\n",
    "            # Absolute values of coordinates\n",
    "            x_bottom_left = int(xmin*W)\n",
    "            y_bottom_left = int(ymin*H)\n",
    "            w = int(width*W)\n",
    "            h = int(height*H)\n",
    "\n",
    "            #drawing a rectangle over image\n",
    "            rect = image.copy()\n",
    "            rect = cv2.rectangle(rect,(x_bottom_left,y_bottom_left),(x_bottom_left+w,y_bottom_left+h),(0,255,0),5)\n",
    "\n",
    "            blur_img = image.copy()\n",
    "            blur_img[y_bottom_left:y_bottom_left+h,x_bottom_left:x_bottom_left+w] = cv2.blur(blur_img[y_bottom_left:y_bottom_left+h,x_bottom_left:x_bottom_left+w],(50,50))\n",
    "        return blur_img"
   ]
  },
  {
   "cell_type": "markdown",
   "id": "6b0c5c16-f31d-47ad-af9d-9daa2ede5621",
   "metadata": {},
   "source": [
    "## Using argparse and process_image to blur our webcam image"
   ]
  },
  {
   "cell_type": "code",
   "execution_count": 9,
   "id": "1eeaa038-5f04-434a-91cd-67f95092a7b6",
   "metadata": {},
   "outputs": [],
   "source": [
    "with mp_face_detection.FaceDetection(model_selection=0,min_detection_confidence = 0.5) as face_detection: \n",
    "    if arg.mode == 'image':\n",
    "        image_argpass = cv2.imread(arg.filePath)\n",
    "        blur_img = process_image(image_argpass,face_detection)\n",
    "\n",
    "        cv2.imwrite(os.path.join(output_directory_path,'output.png'),blur_img)\n",
    "\n",
    "    elif arg.mode == 'webcam':\n",
    "        cap = cv2.VideoCapture(0)\n",
    "        ret,frame = cap.read()\n",
    "\n",
    "        while ret:\n",
    "            # if ret:\n",
    "            blur_img = process_image(frame,face_detection)\n",
    "            \n",
    "            if blur_img is not None:\n",
    "                frame_to_show = blur_img\n",
    "            else:\n",
    "                frame_to_show = frame\n",
    "                \n",
    "            cv2.imshow('No Face',frame_to_show)\n",
    "            \n",
    "            key = cv2.waitKey(10)\n",
    "\n",
    "            if key & 0xFF == ord('t'):  # If 'q' is pressed, exit the loop\n",
    "                break\n",
    "                \n",
    "            ret,frame = cap.read()\n",
    "\n",
    "        cv2.destroyAllWindows()\n",
    "        cap.release()\n",
    "    pass"
   ]
  }
 ],
 "metadata": {
  "kernelspec": {
   "display_name": "Python 3 (ipykernel)",
   "language": "python",
   "name": "python3"
  },
  "language_info": {
   "codemirror_mode": {
    "name": "ipython",
    "version": 3
   },
   "file_extension": ".py",
   "mimetype": "text/x-python",
   "name": "python",
   "nbconvert_exporter": "python",
   "pygments_lexer": "ipython3",
   "version": "3.9.18"
  }
 },
 "nbformat": 4,
 "nbformat_minor": 5
}
